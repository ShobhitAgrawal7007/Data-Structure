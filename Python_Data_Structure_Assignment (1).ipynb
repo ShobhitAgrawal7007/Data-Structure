{
  "nbformat": 4,
  "nbformat_minor": 0,
  "metadata": {
    "colab": {
      "provenance": []
    },
    "kernelspec": {
      "name": "python3",
      "display_name": "Python 3"
    },
    "language_info": {
      "name": "python"
    }
  },
  "cells": [
    {
      "cell_type": "markdown",
      "source": [
        "# Data Structure Assignment(Theory)"
      ],
      "metadata": {
        "id": "shuBH4gXhLX2"
      }
    },
    {
      "cell_type": "markdown",
      "source": [
        "1. What are data structures, and why are they important?"
      ],
      "metadata": {
        "id": "ECB4nhsYhUo3"
      }
    },
    {
      "cell_type": "markdown",
      "source": [
        "Data structures are fundamental tools in computer science for organizing, storing, and retrieving data efficiently. They are essential because they allow for structured and efficient manipulation of data within programs, leading to improved performance, easier code understanding, and better scalability.\n",
        "They are important as follows:\n",
        "1. Efficiency\n",
        "2. Code Readability and Maintainability\n",
        "3. Performance\n",
        "4. Problem-Solving\n",
        "5. Organization"
      ],
      "metadata": {
        "id": "IEU73DtthZb_"
      }
    },
    {
      "cell_type": "markdown",
      "source": [
        "2. Explain the difference between mutable and immutable data types with examples?"
      ],
      "metadata": {
        "id": "qvGY34WxkSKA"
      }
    },
    {
      "cell_type": "markdown",
      "source": [
        "In programming, mutable data types can be changed after they are created, while immutable data types cannot be modified once initialized. Examples of mutable types include lists and dictionaries, while immutable types include strings and tuples.\n",
        "\n",
        "Examples are as follows:\n",
        "\n",
        " Mutable Data Types:\n",
        "\n",
        "  my_list =\n",
        "\n",
        "    my_list.append(4)  # Adding an element\n",
        "    my_list = 5     # Modifying an element\n",
        "    print(my_list)  # Output:\n",
        "\n",
        " Immutable Data Types:\n",
        "\n",
        "  my_string = \"hello\"\n",
        "\n",
        "    # my_string = 'w'  # This will raise an error\n",
        "    new_string = my_string + \" world\" # Create a new string\n",
        "    print(new_string) # Output: hello world\n",
        "    print(my_string) # Output: hello   "
      ],
      "metadata": {
        "id": "3slOk14ekcgK"
      }
    },
    {
      "cell_type": "markdown",
      "source": [
        "3. What are the main differences between lists and tuples in Python?"
      ],
      "metadata": {
        "id": "S9Ug75fzlRQr"
      }
    },
    {
      "cell_type": "markdown",
      "source": [
        "Lists and tuples are both used to store a sequence of items in Python, but they have key differences that make them suitable for different purposes:\n",
        "\n",
        "**Mutability**\n",
        "\n",
        " **Lists**\n",
        "\n",
        "are mutable, meaning their elements can be changed after creation. You can add, remove, or modify elements in a list.\n",
        "\n",
        "** Tuples**\n",
        "\n",
        "are immutable, meaning their elements cannot be changed after creation. Once a tuple is created, its contents are fixed.\n",
        "\n",
        " **Syntax:**\n",
        "\n",
        "1. Lists: are defined using square brackets []. Example: my_list =\n",
        "2. Tuples: are defined using parentheses (). Example: my_tuple = (1, 2, 3)\n",
        "\n",
        "** Performance**:\n",
        "\n",
        "1. Tuples: are generally faster than lists because of their immutability. Python can optimize tuples for performance since their contents won't change.\n",
        "2. Lists: have a slight performance overhead due to their mutability."
      ],
      "metadata": {
        "id": "ddolYAZZsLyg"
      }
    },
    {
      "cell_type": "markdown",
      "source": [
        "4. Describe how dictionaries store data?"
      ],
      "metadata": {
        "id": "Pafs3h8-uEk3"
      }
    },
    {
      "cell_type": "markdown",
      "source": [
        "Dictionaries are used to store data values in key:value pairs. A dictionary is a collection which is ordered*, changeable and do not allow duplicates. As of Python version 3.7, dictionaries are ordered."
      ],
      "metadata": {
        "id": "t8JIkn3xuNVw"
      }
    },
    {
      "cell_type": "markdown",
      "source": [
        "5. Why might you use a set instead of a list in Python?"
      ],
      "metadata": {
        "id": "hZIZCsc7uu0l"
      }
    },
    {
      "cell_type": "markdown",
      "source": [
        "Sets and lists are both used for storing collections of items in Python, but they have key differences that make them suitable for different situations.\n",
        "Here's a set over a list:\n",
        "1. Uniqueness: Sets only store unique elements. If you try to add a duplicate, it will be ignored. Lists, on the other hand, allow duplicate elements. This makes sets ideal when you need to ensure that you are only working with distinct values.\n",
        "2. Unordered: Sets do not maintain the order of elements. This means you cannot access elements by index like you would in a list. If the order of elements is not important, sets can be more efficient.\n",
        "3. Membership Testing: Sets are optimized for fast membership testing using the in operator. Checking if an element is present in a set is much faster than doing the same in a list, especially for large collections.\n",
        "4. Mathematical Operations: Sets support mathematical set operations like union, intersection, and difference. This makes them convenient for tasks such as comparing data sets.\n",
        "5. Removing Duplicates: If you need to remove duplicates from a list, converting it to a set is a quick and efficient way to achieve this.\n",
        "6. Performance: Sets use hash tables for storage, which allows for faster search, insertion, and deletion operations compared to lists that use dynamic arrays."
      ],
      "metadata": {
        "id": "fhu_7I3du81A"
      }
    },
    {
      "cell_type": "markdown",
      "source": [
        "6. What is a string in Python, and how is it different from a list?\n"
      ],
      "metadata": {
        "id": "ePIaxxPUwRLK"
      }
    },
    {
      "cell_type": "markdown",
      "source": [
        "In Python, a string is an immutable sequence of characters, while a list is a mutable sequence of items, which can be of any data type.\n",
        "\n",
        "Key Differences:\n",
        "1. Data Type:\n",
        "Strings hold only characters, while lists can hold any Python object (including numbers, strings, other lists, etc).\n",
        "2. Mutability:\n",
        "Strings are immutable; once created, their contents cannot be changed. Lists are mutable; their contents can be modified after creation.\n",
        "3. Representation:\n",
        "Strings are enclosed in single or double quotes, while lists are enclosed in square brackets.\n",
        "4. Purpose:\n",
        "Strings are used for text manipulation, while lists are used for creating and managing collections of data.\n"
      ],
      "metadata": {
        "id": "swP0sxGFw0af"
      }
    },
    {
      "cell_type": "markdown",
      "source": [
        "7. How do tuples ensure data integrity in Python?"
      ],
      "metadata": {
        "id": "u0xdsgVWx_yb"
      }
    },
    {
      "cell_type": "markdown",
      "source": [
        "Tuples in Python ensure data integrity through their immutability. Once a tuple is created, its contents cannot be modified, which means that the data within a tuple is protected from accidental or unintended changes. This feature is crucial for maintaining the consistency and reliability of data, especially in scenarios where data should remain fixed throughout its lifecycle.\n",
        "\n",
        "Here's how immutability contributes to data integrity:\n",
        "1. Prevents Accidental Modification:\n",
        "Tuples are used to store data that should not be altered. Once a tuple is created, any attempt to modify it will result in an error, thus preventing changes.\n",
        "2. Ensures Data Consistency:\n",
        "Since tuples cannot be changed, they guarantee that the data remains consistent and reliable. This is particularly important when using tuples to store configurations, database settings, or any other kind of data that should remain constant.\n",
        "3. Suitable for Dictionary Keys:\n",
        "Tuples can be used as keys in dictionaries because they are immutable, while lists cannot be used as dictionary keys because they are mutable. This allows for the storage and retrieval of data based on fixed values.\n",
        "4. Memory Efficiency:\n",
        "Due to their immutability, tuples are more memory-efficient and faster than mutable data structures like lists. They are stored in a single memory block, making them a better choice for large, unchanging datasets.\n",
        "5. Data Integrity Safeguard:\n",
        "Immutability provides a safeguard against unauthorized changes, ensuring the consistency and reliability of your data. This is particularly useful when dealing with sensitive or critical information.\n"
      ],
      "metadata": {
        "id": "OsZvXizoyG8S"
      }
    },
    {
      "cell_type": "markdown",
      "source": [
        "8. What is a hash table, and how does it relate to dictionaries in Python?"
      ],
      "metadata": {
        "id": "awcGI-e4zgEB"
      }
    },
    {
      "cell_type": "markdown",
      "source": [
        "A hash table is a data structure that stores data in key-value pairs. It uses a hash function to compute an index into an array, where the value will be stored. This allows for quick insertion, deletion, and retrieval of data.\n",
        "\n",
        "In Python, dictionaries are implemented using hash tables. When you create a dictionary, Python creates a hash table behind the scenes. The keys of the dictionary are hashed using Python's built-in hash function, and the resulting hash values are used to determine the index in the hash table where the corresponding value will be stored. This is why dictionaries in Python offer very fast lookups, insertions, and deletions."
      ],
      "metadata": {
        "id": "9mhMtA54zoCp"
      }
    },
    {
      "cell_type": "markdown",
      "source": [
        "9. Can lists contain different data types in Python?"
      ],
      "metadata": {
        "id": "GLLFHfh10Auu"
      }
    },
    {
      "cell_type": "markdown",
      "source": [
        "Yes, lists in Python can contain elements of different data types. This means a single list can hold integers, strings, floats, booleans, and even other lists or dictionaries.\n",
        "For Example:\n",
        "\n",
        "  my_list = [1, \"hello\", 3.14, True, [5, 6]]\n",
        "    \n",
        "    print(my_list)\n"
      ],
      "metadata": {
        "id": "km7EMqaD0JhG"
      }
    },
    {
      "cell_type": "markdown",
      "source": [
        "10. Explain why strings are immutable in Python?"
      ],
      "metadata": {
        "id": "AetP20-409Hs"
      }
    },
    {
      "cell_type": "markdown",
      "source": [
        "In Python, strings are immutable, which means that once a string is created, its content cannot be modified. Instead of changing the original string, any operation that appears to modify it actually creates a new string object.\n",
        "\n",
        " Some reasons why strings are designed to be immutable:\n",
        "1. Consistency and Reliability:\n",
        "Immutability ensures that a string's value remains constant throughout its lifetime. This prevents unintended modifications and makes code easier to reason about.\n",
        "2. Hashing:\n",
        "Immutable objects, like strings, can be used as keys in dictionaries because their hash values remain constant. If strings were mutable, their hash values could change, making them unsuitable for dictionary keys.\n",
        "3. Performance Optimization:\n",
        "Python can optimize memory usage by sharing string objects with the same value. If strings were mutable, this optimization would not be possible.\n",
        "4. Security:\n",
        "Immutable strings prevent attackers from altering sensitive data like passwords or usernames.\n"
      ],
      "metadata": {
        "id": "bvbBNwva1Hft"
      }
    },
    {
      "cell_type": "markdown",
      "source": [
        "11. What advantages do dictionaries offer over lists for certain tasks?"
      ],
      "metadata": {
        "id": "ltJ0aB8S2GCF"
      }
    },
    {
      "cell_type": "markdown",
      "source": [
        " It is more efficient to use dictionaries for the searching of elements as it can be carried out in a much faster manner. Lists are used when it is important to maintain the order of the elements and dealing with data that may get changed in the future."
      ],
      "metadata": {
        "id": "aZKayODf2Ouh"
      }
    },
    {
      "cell_type": "markdown",
      "source": [
        "12. Describe a scenario where using a tuple would be preferable over a list?"
      ],
      "metadata": {
        "id": "8Xf_5rpeEYL1"
      }
    },
    {
      "cell_type": "markdown",
      "source": [
        "Tuples are also more memory efficient than the lists. When it comes to time efficiency, tuples have a slight advantage over lists especially when we consider lookup value. If you have data that shouldn't change, you should choose tuple data type over lists."
      ],
      "metadata": {
        "id": "eiONDiHtEjgt"
      }
    },
    {
      "cell_type": "markdown",
      "source": [
        "13. How do sets handle duplicate values in Python?"
      ],
      "metadata": {
        "id": "IRhRaY_IGK0E"
      }
    },
    {
      "cell_type": "markdown",
      "source": [
        "In Python, sets are designed to store only unique elements. When you attempt to add a duplicate value to a set, it does not raise an error, but it also does not add the duplicate. The set simply ignores the attempt to add the duplicate, effectively maintaining its uniqueness.\n",
        "Some points are:\n",
        "1. Uniqueness Enforcement:\n",
        "Sets inherently enforce uniqueness. This means that if you try to add an element that already exists in the set, the set will not change.\n",
        "2. No Error:\n",
        "Unlike some other data structures or operations, adding a duplicate to a set does not raise an exception. The set simply remains as it was before the attempted addition.\n",
        "3. Automatic Removal:\n",
        "When you create a set from a collection that contains duplicates, the set automatically removes those duplicates, keeping only one instance of each unique value.\n",
        "\n",
        "Example:\n",
        "\n",
        "   my_set = {1, 2, 2, 3, 4, 4, 5}\n",
        "   \n",
        "   print(my_set)\n",
        "#  Output: {1, 2, 3, 4, 5}"
      ],
      "metadata": {
        "id": "4Iqw0K-GGYPE"
      }
    },
    {
      "cell_type": "markdown",
      "source": [
        "14. How does the “in” keyword work differently for lists and dictionaries?"
      ],
      "metadata": {
        "id": "Vh0RL289HvhR"
      }
    },
    {
      "cell_type": "markdown",
      "source": [
        " The in operation for the dictionary tests on keys. The key of the dictionary is a unique value as well as the set, and the execution time is about the same as for sets. On the other hand, dictionary values can be duplicated like a list."
      ],
      "metadata": {
        "id": "BGMVz2wzH7gb"
      }
    },
    {
      "cell_type": "markdown",
      "source": [
        "15. Can you modify the elements of a tuple? Explain why or why not?\n"
      ],
      "metadata": {
        "id": "9kGcJs4TIcSR"
      }
    },
    {
      "cell_type": "markdown",
      "source": [
        "No, you cannot directly modify the elements of a tuple in Python. Tuples are immutable, meaning their contents cannot be changed after they are created. If you try to assign a new value to an element of a tuple, you will encounter a TypeError.\n",
        "\n",
        " Why and what you can do instead:\n",
        "\n",
        "Why Tuples are Immutable:\n",
        "1. Data Integrity:\n",
        "Immutability ensures that the values within a tuple remain constant and predictable, which is useful in situations where data consistency is crucial.\n",
        "2. Hashing:\n",
        "Immutable objects, like tuples, can be used as keys in dictionaries and as elements in sets because their values don't change, which is essential for hashing algorithms.\n",
        "3. Efficiency:\n",
        "Python can optimize operations on immutable objects because it knows their contents will not be altered.\n",
        "\n",
        "\n"
      ],
      "metadata": {
        "id": "4d0xtF4eI5v8"
      }
    },
    {
      "cell_type": "markdown",
      "source": [
        "16. What is a nested dictionary, and give an example of its use case?"
      ],
      "metadata": {
        "id": "9JTCURXEK-7e"
      }
    },
    {
      "cell_type": "markdown",
      "source": [
        "A nested dictionary is a dictionary where the values are themselves dictionaries. It's essentially a dictionary within a dictionary, allowing for a hierarchical structure to represent complex data. A common use case is organizing data with multiple layers, like employee records or inventory systems.\n",
        "Example:\n",
        " # Example of a nested dictionary\n",
        "\n",
        "employee_data = {\n",
        "  \n",
        "    \"employees\": {\n",
        "        \"employee1\": {\n",
        "            \"name\": \"Alice\",\n",
        "            \"department\": \"Sales\",\n",
        "            \"salary\": 60000\n",
        "        },\n",
        "        \"employee2\": {\n",
        "            \"name\": \"Bob\",\n",
        "            \"department\": \"Marketing\",\n",
        "            \"salary\": 70000\n",
        "        }\n",
        "    }\n",
        "}\n"
      ],
      "metadata": {
        "id": "FfioEE5SLJX_"
      }
    },
    {
      "cell_type": "markdown",
      "source": [
        "17. Describe the time complexity of accessing elements in a dictionary?"
      ],
      "metadata": {
        "id": "zaFswM7nMAB4"
      }
    },
    {
      "cell_type": "markdown",
      "source": [
        "Accessing an element in a dictionary using its key generally has a time complexity of O(1) on average. This means it takes a constant amount of time, regardless of the dictionary's size. Dictionaries achieve this efficiency by using a hash table as their underlying data structure, where keys are hashed to determine their location.\n",
        "\n",
        "Explanation:\n",
        "1. O(1) on Average:\n",
        "Dictionaries use a hash table. The key is hashed (converted to a numerical value), and this hash value is used to determine the index (or bucket) where the corresponding value is stored. Retrieving the value then involves directly accessing this index, which takes constant time, on average.\n",
        "2. Worst Case O(n):\n",
        "While O(1) is the average case, there can be a worst-case scenario of O(n) if there are many hash collisions. This would mean multiple key-value pairs are mapped to the same index, requiring a linear search within that index to find the correct value. However, good hash functions and dictionary implementations minimize the chance of frequent collisions."
      ],
      "metadata": {
        "id": "4UNWEetNMKhA"
      }
    },
    {
      "cell_type": "markdown",
      "source": [
        "18. In what situations are lists preferred over dictionaries?"
      ],
      "metadata": {
        "id": "5RTJmJKnMuKH"
      }
    },
    {
      "cell_type": "markdown",
      "source": [
        "For quick data look-ups, configurations, or caches, favor dictionaries. For ordered collections and sequence operations, such as maintaining a stack or queue, lists are more suitable."
      ],
      "metadata": {
        "id": "QdMN2ONKM2bu"
      }
    },
    {
      "cell_type": "markdown",
      "source": [
        "19. Why are dictionaries considered unordered, and how does that affect data retrieval?"
      ],
      "metadata": {
        "id": "yGifsbU3NIZR"
      }
    },
    {
      "cell_type": "markdown",
      "source": [
        " Dictionary is a data structure which is a important value structure, optimized for fast storage and recovery based on key. In python, dictionaries are un-ordered because Python dictionaries are not intended to be in order, as simple as that."
      ],
      "metadata": {
        "id": "r47t84zmNPgC"
      }
    },
    {
      "cell_type": "markdown",
      "source": [
        "20. Explain the difference between a list and a dictionary in terms of data retrieval?"
      ],
      "metadata": {
        "id": "-FoLLZfLNlwI"
      }
    },
    {
      "cell_type": "markdown",
      "source": [
        "Ans: Difference Between List and Dictionary in Python - Scaler TopicsLists and dictionaries differ in how they store and retrieve data. Lists store elements in a sequential, ordered manner accessed by their index, while dictionaries store elements as key-value pairs, allowing efficient retrieval based on unique keys.\n",
        "\n",
        "Lists:\n",
        "1. Ordered:\n",
        "Elements are stored in a specific order, with each element having an index.\n",
        "2. Indexed:\n",
        "Elements are accessed by their index (starting from 0).\n",
        " Example:\n",
        " my_list = [1, 2, 3, \"hello\"]. To get the value \"hello,\" you would access my_list.\n",
        "3. Time Complexity:\n",
        "Searching for an element in a list can take O(n) time, where 'n' is the number of elements. This is because you might need to iterate through all elements to find the one you're looking for.\n",
        "\n",
        "Dictionaries:\n",
        "\n",
        "1. Unordered (or insertion-ordered in Python 3.7+):\n",
        "Elements are not stored in a specific order, but rather as key-value pairs.\n",
        "2. Key-based:\n",
        "Elements are accessed by their unique key.\n",
        "Example:\n",
        "my_dictionary = {\"name\": \"Alice\", \"age\": 30}. To get Alice's age, you would access my_dictionary[\"age\"].\n",
        "3. Time Complexity:\n",
        "Searching for an element in a dictionary can be done in O(1) average time, thanks to hashing. This is because the dictionary directly maps the key to the corresponding value, allowing for fast access.\n",
        "\n",
        "\n",
        "\n"
      ],
      "metadata": {
        "id": "sPi5X5bCNxEP"
      }
    },
    {
      "cell_type": "markdown",
      "source": [
        "# Data Structure Assignment(Practical)"
      ],
      "metadata": {
        "id": "u_XYKtD7roTM"
      }
    },
    {
      "cell_type": "markdown",
      "source": [
        "1. Write a code to create a string with your name and print it."
      ],
      "metadata": {
        "id": "zsNHGf-fr-f-"
      }
    },
    {
      "cell_type": "code",
      "source": [
        "name = \"Shobhit\"\n",
        "print(\"My name is\", name)"
      ],
      "metadata": {
        "colab": {
          "base_uri": "https://localhost:8080/"
        },
        "id": "6JmMLIc5tW8i",
        "outputId": "39072db4-45b6-4ef5-aca7-b05994398e5e"
      },
      "execution_count": null,
      "outputs": [
        {
          "output_type": "stream",
          "name": "stdout",
          "text": [
            "My name is Shobhit\n"
          ]
        }
      ]
    },
    {
      "cell_type": "markdown",
      "source": [
        "2. Write a code to find the length of the string \"Hello World\"."
      ],
      "metadata": {
        "id": "Gj2KSmQkuoXf"
      }
    },
    {
      "cell_type": "code",
      "source": [
        "s = \"Hello World\"\n",
        "length = len(s)\n",
        "print(\"The length of the string is:\", length)"
      ],
      "metadata": {
        "colab": {
          "base_uri": "https://localhost:8080/"
        },
        "id": "AT0WTrdJu6bw",
        "outputId": "aaacf7bb-3df9-4465-cc76-2eb5f1bd7098"
      },
      "execution_count": null,
      "outputs": [
        {
          "output_type": "stream",
          "name": "stdout",
          "text": [
            "The length of the string is: 11\n"
          ]
        }
      ]
    },
    {
      "cell_type": "markdown",
      "source": [
        "3. Write a code to slice the first 3 characters from the string \"Python Programming\"."
      ],
      "metadata": {
        "id": "0RR96OBsw37q"
      }
    },
    {
      "cell_type": "code",
      "source": [
        "s = \"Python Programming\"\n",
        "sliced_string = s[:3]\n",
        "print(\"First 3 characters:\", sliced_string)"
      ],
      "metadata": {
        "colab": {
          "base_uri": "https://localhost:8080/"
        },
        "id": "DYiQpMtHxDT0",
        "outputId": "eea6f89e-0ab6-4993-de44-4e2b8e3b88c8"
      },
      "execution_count": null,
      "outputs": [
        {
          "output_type": "stream",
          "name": "stdout",
          "text": [
            "First 3 characters: Pyt\n"
          ]
        }
      ]
    },
    {
      "cell_type": "markdown",
      "source": [
        "4. Write a code to convert the string \"hello\" to uppercase."
      ],
      "metadata": {
        "id": "k855UULByHs0"
      }
    },
    {
      "cell_type": "code",
      "source": [
        "text = \"hello\"\n",
        "uppercase_text = text.upper()\n",
        "print(\"Uppercase:\", uppercase_text)"
      ],
      "metadata": {
        "colab": {
          "base_uri": "https://localhost:8080/"
        },
        "id": "a2N_ct5nyR-f",
        "outputId": "3d32fed4-2ec7-48d7-8cb8-d71d98f1ca82"
      },
      "execution_count": null,
      "outputs": [
        {
          "output_type": "stream",
          "name": "stdout",
          "text": [
            "Uppercase: HELLO\n"
          ]
        }
      ]
    },
    {
      "cell_type": "markdown",
      "source": [
        "5. Write a code to replace the word \"apple\" with \"orange\" in the string \"I like apple\"."
      ],
      "metadata": {
        "id": "fF8nbyXZzV0v"
      }
    },
    {
      "cell_type": "code",
      "source": [
        "text = \"I like apple\"\n",
        "new_text = text.replace(\"apple\", \"orange\")\n",
        "print(new_text)"
      ],
      "metadata": {
        "colab": {
          "base_uri": "https://localhost:8080/"
        },
        "id": "aHuN1Ck3zdzA",
        "outputId": "5358859e-403b-4a9c-9435-9d90d7e148e4"
      },
      "execution_count": null,
      "outputs": [
        {
          "output_type": "stream",
          "name": "stdout",
          "text": [
            "I like orange\n"
          ]
        }
      ]
    },
    {
      "cell_type": "markdown",
      "source": [
        "6. Write a code to create a list with numbers 1 to 5 and print it."
      ],
      "metadata": {
        "id": "sk3GQ7Of0yIO"
      }
    },
    {
      "cell_type": "code",
      "source": [
        "numbers = [1, 2, 3, 4, 5]\n",
        "print(\"List of numbers:\", numbers)"
      ],
      "metadata": {
        "colab": {
          "base_uri": "https://localhost:8080/"
        },
        "id": "ZcT8P6k3057H",
        "outputId": "1e52ce40-2fa1-4d72-dd8b-bfbba9ae057a"
      },
      "execution_count": null,
      "outputs": [
        {
          "output_type": "stream",
          "name": "stdout",
          "text": [
            "List of numbers: [1, 2, 3, 4, 5]\n"
          ]
        }
      ]
    },
    {
      "cell_type": "markdown",
      "source": [
        "7. Write a code to append the number 10 to the list [1, 2, 3, 4]."
      ],
      "metadata": {
        "id": "gNt9pYNf1mk8"
      }
    },
    {
      "cell_type": "code",
      "source": [
        "numbers = [1, 2, 3, 4]\n",
        "numbers.append(10)\n",
        "print(\"Updated list:\", numbers)"
      ],
      "metadata": {
        "colab": {
          "base_uri": "https://localhost:8080/"
        },
        "id": "o4EYnTZl1vWk",
        "outputId": "3a4a6357-59b3-47a5-c067-6e2536023c0d"
      },
      "execution_count": null,
      "outputs": [
        {
          "output_type": "stream",
          "name": "stdout",
          "text": [
            "Updated list: [1, 2, 3, 4, 10]\n"
          ]
        }
      ]
    },
    {
      "cell_type": "markdown",
      "source": [
        "8. Write a code to remove the number 3 from the list [1, 2, 3, 4, 5]."
      ],
      "metadata": {
        "id": "iP9N7JwA2Vza"
      }
    },
    {
      "cell_type": "code",
      "source": [
        "numbers = [1, 2, 3, 4, 5]\n",
        "numbers.remove(3)\n",
        "print(\"Updated list:\", numbers)"
      ],
      "metadata": {
        "colab": {
          "base_uri": "https://localhost:8080/"
        },
        "id": "IwoXB7RG2dKb",
        "outputId": "e7e369a1-27a8-4b3b-bc1a-a3ec79e51f66"
      },
      "execution_count": null,
      "outputs": [
        {
          "output_type": "stream",
          "name": "stdout",
          "text": [
            "Updated list: [1, 2, 4, 5]\n"
          ]
        }
      ]
    },
    {
      "cell_type": "markdown",
      "source": [
        "9. Write a code to access the second element in the list ['a', 'b', 'c', 'd']."
      ],
      "metadata": {
        "id": "NQ-Q0EUp2sEt"
      }
    },
    {
      "cell_type": "code",
      "source": [
        "letters = ['a', 'b', 'c', 'd']\n",
        "second_element = letters[1]\n",
        "print(\"Second element:\", second_element)"
      ],
      "metadata": {
        "colab": {
          "base_uri": "https://localhost:8080/"
        },
        "id": "je2PgEq222MW",
        "outputId": "748b9341-48f0-4255-ea9e-a094462c3fba"
      },
      "execution_count": null,
      "outputs": [
        {
          "output_type": "stream",
          "name": "stdout",
          "text": [
            "Second element: b\n"
          ]
        }
      ]
    },
    {
      "cell_type": "markdown",
      "source": [
        "10. Write a code to reverse the list [10, 20, 30, 40, 50]."
      ],
      "metadata": {
        "id": "E-SQtWK_3oGf"
      }
    },
    {
      "cell_type": "code",
      "source": [
        "numbers = [10, 20, 30, 40, 50]\n",
        "reversed_list = numbers[::-1]\n",
        "print(\"Reversed list:\", reversed_list)"
      ],
      "metadata": {
        "colab": {
          "base_uri": "https://localhost:8080/"
        },
        "id": "H-G6VRtH3vxW",
        "outputId": "18a00ce5-9dff-44d4-db0b-81666ed2db79"
      },
      "execution_count": null,
      "outputs": [
        {
          "output_type": "stream",
          "name": "stdout",
          "text": [
            "Reversed list: [50, 40, 30, 20, 10]\n"
          ]
        }
      ]
    },
    {
      "cell_type": "markdown",
      "source": [
        "11. Write a code to create a tuple with the elements 100, 200, 300 and print it."
      ],
      "metadata": {
        "id": "Z_p8ZMhw4bEV"
      }
    },
    {
      "cell_type": "code",
      "source": [
        "numbers_tuple = (100, 200, 300)\n",
        "print(\"Tuple:\", numbers_tuple)"
      ],
      "metadata": {
        "colab": {
          "base_uri": "https://localhost:8080/"
        },
        "id": "ZBeVoXMi4hYd",
        "outputId": "35d8dff7-2143-4f7b-cfcc-a3659d0afc85"
      },
      "execution_count": null,
      "outputs": [
        {
          "output_type": "stream",
          "name": "stdout",
          "text": [
            "Tuple: (100, 200, 300)\n"
          ]
        }
      ]
    },
    {
      "cell_type": "markdown",
      "source": [
        "12. Write a code to access the second-to-last element of the tuple ('red', 'green', 'blue', 'yellow')."
      ],
      "metadata": {
        "id": "ynoLY48_5OtN"
      }
    },
    {
      "cell_type": "code",
      "source": [
        "colors = ('red', 'green', 'blue', 'yellow')\n",
        "second_last = colors[-2]\n",
        "print(\"Second-to-last element:\", second_last)"
      ],
      "metadata": {
        "colab": {
          "base_uri": "https://localhost:8080/"
        },
        "id": "NdtYGWCu5S1F",
        "outputId": "c6411a65-85c0-4b44-a879-4b6138ab184c"
      },
      "execution_count": null,
      "outputs": [
        {
          "output_type": "stream",
          "name": "stdout",
          "text": [
            "Second-to-last element: blue\n"
          ]
        }
      ]
    },
    {
      "cell_type": "markdown",
      "source": [
        "13. Write a code to find the minimum number in the tuple (10, 20, 5, 15)."
      ],
      "metadata": {
        "id": "W6J_47Hg6EBV"
      }
    },
    {
      "cell_type": "code",
      "source": [
        "numbers = (10, 20, 5, 15)\n",
        "min_number = min(numbers)\n",
        "print(\"Minimum number:\", min_number)"
      ],
      "metadata": {
        "colab": {
          "base_uri": "https://localhost:8080/"
        },
        "id": "ofO7VCkU6JUL",
        "outputId": "fd85bcfb-5fe9-49b6-f5ca-436cee95269f"
      },
      "execution_count": null,
      "outputs": [
        {
          "output_type": "stream",
          "name": "stdout",
          "text": [
            "Minimum number: 5\n"
          ]
        }
      ]
    },
    {
      "cell_type": "markdown",
      "source": [
        "14. Write a code to find the index of the element \"cat\" in the tuple ('dog', 'cat', 'rabbit')."
      ],
      "metadata": {
        "id": "f0fdU_W86uYK"
      }
    },
    {
      "cell_type": "code",
      "source": [
        "animals = ('dog', 'cat', 'rabbit')\n",
        "cat_index = animals.index('cat')\n",
        "print(\"Index of 'cat':\", cat_index)"
      ],
      "metadata": {
        "colab": {
          "base_uri": "https://localhost:8080/"
        },
        "id": "IakYgpJ_6z6a",
        "outputId": "5ac60aef-1804-436f-a759-cd5547562958"
      },
      "execution_count": null,
      "outputs": [
        {
          "output_type": "stream",
          "name": "stdout",
          "text": [
            "Index of 'cat': 1\n"
          ]
        }
      ]
    },
    {
      "cell_type": "markdown",
      "source": [
        "15. Write a code to create a tuple containing three different fruits and check if \"kiwi\" is in it."
      ],
      "metadata": {
        "id": "u5s6G1pK7bLI"
      }
    },
    {
      "cell_type": "code",
      "source": [
        "fruits = ('apple', 'banana', 'orange')\n",
        "if \"kiwi\" in fruits:\n",
        "    print(\"'kiwi' is in the tuple.\")\n",
        "else:\n",
        "    print(\"'kiwi' is not in the tuple.\")"
      ],
      "metadata": {
        "colab": {
          "base_uri": "https://localhost:8080/"
        },
        "id": "6q-DjRf87g6Q",
        "outputId": "8fc8ba55-588c-4b7d-850f-27afb6f55dd6"
      },
      "execution_count": null,
      "outputs": [
        {
          "output_type": "stream",
          "name": "stdout",
          "text": [
            "'kiwi' is not in the tuple.\n"
          ]
        }
      ]
    },
    {
      "cell_type": "markdown",
      "source": [
        "16. Write a code to create a set with the elements 'a', 'b', 'c' and print it."
      ],
      "metadata": {
        "id": "qkpriRZ48FoO"
      }
    },
    {
      "cell_type": "code",
      "source": [
        "letters = {'a', 'b', 'c'}\n",
        "print(\"Set:\", letters)"
      ],
      "metadata": {
        "colab": {
          "base_uri": "https://localhost:8080/"
        },
        "id": "_dN6D12K8Mc3",
        "outputId": "1c7478d9-9602-4029-f61a-d8bfcae0968c"
      },
      "execution_count": null,
      "outputs": [
        {
          "output_type": "stream",
          "name": "stdout",
          "text": [
            "Set: {'b', 'a', 'c'}\n"
          ]
        }
      ]
    },
    {
      "cell_type": "markdown",
      "source": [
        "17. Write a code to clear all elements from the set {1, 2, 3, 4, 5}."
      ],
      "metadata": {
        "id": "j2ckGmIW8rRM"
      }
    },
    {
      "cell_type": "code",
      "source": [
        "numbers = {1, 2, 3, 4, 5}\n",
        "numbers.clear()\n",
        "print(\"Cleared set:\", numbers)"
      ],
      "metadata": {
        "colab": {
          "base_uri": "https://localhost:8080/"
        },
        "id": "59PKGAhN8z8M",
        "outputId": "421d1b5e-33c1-4b8d-bda0-10a31a09af27"
      },
      "execution_count": null,
      "outputs": [
        {
          "output_type": "stream",
          "name": "stdout",
          "text": [
            "Cleared set: set()\n"
          ]
        }
      ]
    },
    {
      "cell_type": "markdown",
      "source": [
        "18. Write a code to remove the element 4 from the set {1, 2, 3, 4}."
      ],
      "metadata": {
        "id": "sDox2Gmb9P5n"
      }
    },
    {
      "cell_type": "code",
      "source": [
        "numbers = {1, 2, 3, 4}\n",
        "numbers.remove(4)\n",
        "print(\"Updated set:\", numbers)"
      ],
      "metadata": {
        "colab": {
          "base_uri": "https://localhost:8080/"
        },
        "id": "l2NXW6Xa9Vzo",
        "outputId": "2f6ac432-f281-48b1-e849-59cac16908cf"
      },
      "execution_count": null,
      "outputs": [
        {
          "output_type": "stream",
          "name": "stdout",
          "text": [
            "Updated set: {1, 2, 3}\n"
          ]
        }
      ]
    },
    {
      "cell_type": "markdown",
      "source": [
        "19. Write a code to find the union of two sets {1, 2, 3} and {3, 4, 5}."
      ],
      "metadata": {
        "id": "gv6m18uk9ikU"
      }
    },
    {
      "cell_type": "code",
      "source": [
        "set1 = {1, 2, 3}\n",
        "set2 = {3, 4, 5}\n",
        "union_set = set1.union(set2)\n",
        "print(\"Union of sets:\", union_set)"
      ],
      "metadata": {
        "colab": {
          "base_uri": "https://localhost:8080/"
        },
        "id": "1ihTM6jH9paI",
        "outputId": "0527ff9f-552f-4efa-f0d7-298f4e35dd71"
      },
      "execution_count": null,
      "outputs": [
        {
          "output_type": "stream",
          "name": "stdout",
          "text": [
            "Union of sets: {1, 2, 3, 4, 5}\n"
          ]
        }
      ]
    },
    {
      "cell_type": "markdown",
      "source": [
        "20. Write a code to find the intersection of two sets {1, 2, 3} and {2, 3, 4}."
      ],
      "metadata": {
        "id": "nviQNgnp-PWg"
      }
    },
    {
      "cell_type": "code",
      "source": [
        "set1 = {1, 2, 3}\n",
        "set2 = {2, 3, 4}\n",
        "intersection_set = set1.intersection(set2)\n",
        "print(\"Intersection of sets:\", intersection_set)"
      ],
      "metadata": {
        "colab": {
          "base_uri": "https://localhost:8080/"
        },
        "id": "GR6uPD_2-Vfq",
        "outputId": "441f4b0c-a321-4139-8579-8e55aacaee81"
      },
      "execution_count": null,
      "outputs": [
        {
          "output_type": "stream",
          "name": "stdout",
          "text": [
            "Intersection of sets: {2, 3}\n"
          ]
        }
      ]
    },
    {
      "cell_type": "markdown",
      "source": [
        "21. Write a code to create a dictionary with the keys \"name\", \"age\", and \"city\", and print it."
      ],
      "metadata": {
        "id": "tiNXmKA2-kxD"
      }
    },
    {
      "cell_type": "code",
      "source": [
        "person = {\n",
        "    \"name\": \"John\",\n",
        "    \"age\": 25,\n",
        "    \"city\": \"New York\"\n",
        "}\n",
        "print(\"Dictionary:\", person)"
      ],
      "metadata": {
        "colab": {
          "base_uri": "https://localhost:8080/"
        },
        "id": "BWMTJCa6-o8j",
        "outputId": "aec71f86-e719-4566-c550-9356cc1e2d7b"
      },
      "execution_count": null,
      "outputs": [
        {
          "output_type": "stream",
          "name": "stdout",
          "text": [
            "Dictionary: {'name': 'John', 'age': 25, 'city': 'New York'}\n"
          ]
        }
      ]
    },
    {
      "cell_type": "markdown",
      "source": [
        "22. Write a code to add a new key-value pair \"country\": \"USA\" to the dictionary {'name': 'John', 'age': 25}."
      ],
      "metadata": {
        "id": "7MdPl_dY_aoq"
      }
    },
    {
      "cell_type": "code",
      "source": [
        "person = {'name': 'John', 'age': 25}\n",
        "person['country'] = 'USA'\n",
        "print(\"Updated dictionary:\", person)"
      ],
      "metadata": {
        "colab": {
          "base_uri": "https://localhost:8080/"
        },
        "id": "1hP4snt4_fhc",
        "outputId": "7d614e47-aaa2-46cb-fc78-cb0a294656b7"
      },
      "execution_count": null,
      "outputs": [
        {
          "output_type": "stream",
          "name": "stdout",
          "text": [
            "Updated dictionary: {'name': 'John', 'age': 25, 'country': 'USA'}\n"
          ]
        }
      ]
    },
    {
      "cell_type": "markdown",
      "source": [
        "23. Write a code to access the value associated with the key \"name\" in the dictionary {'name': 'Alice', 'age': 30}."
      ],
      "metadata": {
        "id": "hniPFSSDAHBQ"
      }
    },
    {
      "cell_type": "code",
      "source": [
        "person = {'name': 'Alice', 'age': 30}\n",
        "name_value = person['name']\n",
        "print(\"Value for 'name':\", name_value)"
      ],
      "metadata": {
        "colab": {
          "base_uri": "https://localhost:8080/"
        },
        "id": "105J0wgOAK6y",
        "outputId": "6a7757eb-25f9-4f7b-bfd7-74c725e079e5"
      },
      "execution_count": null,
      "outputs": [
        {
          "output_type": "stream",
          "name": "stdout",
          "text": [
            "Value for 'name': Alice\n"
          ]
        }
      ]
    },
    {
      "cell_type": "markdown",
      "source": [
        "24. Write a code to remove the key \"age\" from the dictionary {'name': 'Bob', 'age': 22, 'city': 'New York'}."
      ],
      "metadata": {
        "id": "36b8_tdCAzYe"
      }
    },
    {
      "cell_type": "code",
      "source": [
        "person = {'name': 'Bob', 'age': 22, 'city': 'New York'}\n",
        "del person['age']\n",
        "print(\"Updated dictionary:\", person)"
      ],
      "metadata": {
        "colab": {
          "base_uri": "https://localhost:8080/"
        },
        "id": "oQcJ8WeaA213",
        "outputId": "0df342cb-a2df-4233-e879-67fcf716cad6"
      },
      "execution_count": null,
      "outputs": [
        {
          "output_type": "stream",
          "name": "stdout",
          "text": [
            "Updated dictionary: {'name': 'Bob', 'city': 'New York'}\n"
          ]
        }
      ]
    },
    {
      "cell_type": "markdown",
      "source": [
        "25. Write a code to check if the key \"city\" exists in the dictionary {'name': 'Alice', 'city': 'Paris'}."
      ],
      "metadata": {
        "id": "s8a4tNayBSK7"
      }
    },
    {
      "cell_type": "code",
      "source": [
        "person = {'name': 'Alice', 'city': 'Paris'}\n",
        "if 'city' in person:\n",
        "    print(\"Key 'city' exists in the dictionary.\")\n",
        "else:\n",
        "    print(\"Key 'city' does not exist in the dictionary.\")"
      ],
      "metadata": {
        "colab": {
          "base_uri": "https://localhost:8080/"
        },
        "id": "pZi5yUMdBWFs",
        "outputId": "af5509c4-46f7-4a66-a66f-07f139bf2ea3"
      },
      "execution_count": null,
      "outputs": [
        {
          "output_type": "stream",
          "name": "stdout",
          "text": [
            "Key 'city' exists in the dictionary.\n"
          ]
        }
      ]
    },
    {
      "cell_type": "markdown",
      "source": [
        "26. Write a code to create a list, a tuple, and a dictionary, and print them all."
      ],
      "metadata": {
        "id": "_aO6u0rq3txf"
      }
    },
    {
      "cell_type": "code",
      "source": [
        "my_list = [1, 2, 3, 4, 5]\n",
        "my_tuple = ('apple', 'banana', 'orange')\n",
        "my_dictionary = {'name': 'John', 'age': 25, 'city': 'New York'}\n",
        "\n",
        "print(\"List:\", my_list)\n",
        "print(\"Tuple:\", my_tuple)\n",
        "print(\"Dictionary:\", my_dictionary)"
      ],
      "metadata": {
        "colab": {
          "base_uri": "https://localhost:8080/"
        },
        "id": "iZH4Sn054CBJ",
        "outputId": "91414373-725c-47fd-d353-42db6aa203aa"
      },
      "execution_count": null,
      "outputs": [
        {
          "output_type": "stream",
          "name": "stdout",
          "text": [
            "List: [1, 2, 3, 4, 5]\n",
            "Tuple: ('apple', 'banana', 'orange')\n",
            "Dictionary: {'name': 'John', 'age': 25, 'city': 'New York'}\n"
          ]
        }
      ]
    },
    {
      "cell_type": "markdown",
      "source": [
        "27. Write a code to create a list of 5 random numbers between 1 and 100, sort it in ascending order, and print the result.(replaced)"
      ],
      "metadata": {
        "id": "c3EihsRj5D1D"
      }
    },
    {
      "cell_type": "code",
      "source": [
        "import random\n",
        "random_numbers = [random.randint(1, 100) for _ in range(5)]\n",
        "random_numbers.sort()\n",
        "print(\"Sorted list:\", random_numbers)"
      ],
      "metadata": {
        "colab": {
          "base_uri": "https://localhost:8080/"
        },
        "id": "vaazycbm6RYF",
        "outputId": "b18a99e6-fa1b-4658-86fb-7e9c3355eed0"
      },
      "execution_count": 7,
      "outputs": [
        {
          "output_type": "stream",
          "name": "stdout",
          "text": [
            "Sorted list: [11, 15, 49, 64, 70]\n"
          ]
        }
      ]
    },
    {
      "cell_type": "markdown",
      "source": [
        "28. Write a code to create a list with strings and print the element at the third index."
      ],
      "metadata": {
        "id": "vkb0rQ4PuSCM"
      }
    },
    {
      "cell_type": "code",
      "source": [
        "my_list = [\"apple\", \"banana\", \"orange\", \"grapes\", \"kiwi\"]\n",
        "print(\"Element at index 3:\", my_list[3])"
      ],
      "metadata": {
        "colab": {
          "base_uri": "https://localhost:8080/"
        },
        "id": "N_Ty9D7euTqa",
        "outputId": "c17b5ae5-12f2-4e43-cca6-5c1779de9073"
      },
      "execution_count": 1,
      "outputs": [
        {
          "output_type": "stream",
          "name": "stdout",
          "text": [
            "Element at index 3: grapes\n"
          ]
        }
      ]
    },
    {
      "cell_type": "markdown",
      "source": [
        "29. Write a code to combine two dictionaries into one and print the result."
      ],
      "metadata": {
        "id": "TWyLxphtvqmH"
      }
    },
    {
      "cell_type": "code",
      "source": [
        "dict1 = {'a': 1, 'b': 2}\n",
        "dict2 = {'c': 3, 'd': 4}\n",
        "combined_dict = {**dict1, **dict2}\n",
        "print(\"Combined dictionary:\", combined_dict)"
      ],
      "metadata": {
        "colab": {
          "base_uri": "https://localhost:8080/"
        },
        "id": "Emv8RrHdvucH",
        "outputId": "6a643b9b-28ef-4a54-ff92-45fc573d7b85"
      },
      "execution_count": 2,
      "outputs": [
        {
          "output_type": "stream",
          "name": "stdout",
          "text": [
            "Combined dictionary: {'a': 1, 'b': 2, 'c': 3, 'd': 4}\n"
          ]
        }
      ]
    },
    {
      "cell_type": "markdown",
      "source": [
        "30. Write a code to convert a list of strings into a set."
      ],
      "metadata": {
        "id": "TcWVHngGwWQQ"
      }
    },
    {
      "cell_type": "code",
      "source": [
        "string_list = [\"apple\", \"banana\", \"orange\", \"apple\", \"banana\"]\n",
        "string_set = set(string_list)\n",
        "print(\"Set from strings:\", string_set)"
      ],
      "metadata": {
        "colab": {
          "base_uri": "https://localhost:8080/"
        },
        "id": "XRGTBBUXwZ8d",
        "outputId": "464a8ea5-c2ae-426e-ded5-3273aa4db6fa"
      },
      "execution_count": 3,
      "outputs": [
        {
          "output_type": "stream",
          "name": "stdout",
          "text": [
            "Set from strings: {'orange', 'banana', 'apple'}\n"
          ]
        }
      ]
    }
  ]
}